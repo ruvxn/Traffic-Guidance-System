{
 "cells": [
  {
   "cell_type": "code",
   "execution_count": 3,
   "metadata": {},
   "outputs": [
    {
     "name": "stdout",
     "output_type": "stream",
     "text": [
      "Distance (km): 7.2182579219656375\n"
     ]
    }
   ],
   "source": [
    "import pandas as pd\n",
    "from src.distance_calc import haversine_distance\n",
    "\n",
    "df = pd.read_csv(\"datasets/processed/df_15min.csv\")\n",
    "\n",
    "# Drop duplicate sites\n",
    "site_df = df[[\"SCATS Number\", \"NB_LATITUDE\", \"NB_LONGITUDE\"]].drop_duplicates()\n",
    "\n",
    "distance = haversine_distance(2000, 3002, site_df)\n",
    "print(\"Distance (km):\", distance)\n"
   ]
  }
 ],
 "metadata": {
  "kernelspec": {
   "display_name": "TBRGSvenv",
   "language": "python",
   "name": "python3"
  },
  "language_info": {
   "codemirror_mode": {
    "name": "ipython",
    "version": 3
   },
   "file_extension": ".py",
   "mimetype": "text/x-python",
   "name": "python",
   "nbconvert_exporter": "python",
   "pygments_lexer": "ipython3",
   "version": "3.9.6"
  }
 },
 "nbformat": 4,
 "nbformat_minor": 2
}
